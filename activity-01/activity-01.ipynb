{
 "cells": [
  {
   "cell_type": "markdown",
   "id": "997da286",
   "metadata": {},
   "source": [
    "$$Pupipat\\ Singkhorn\\ 6532142421$$\n"
   ]
  },
  {
   "cell_type": "markdown",
   "id": "183aab8a",
   "metadata": {},
   "source": [
    "# Activity I : Hacking Password\n"
   ]
  },
  {
   "cell_type": "markdown",
   "id": "20c04513",
   "metadata": {},
   "source": [
    "Created by : Krerk Piromsopa, Ph.D\n",
    "Objectives\n",
    "To understand the concepts of hashing and salting.\n",
    "Overviews\n",
    "This activity demonstrates the fundamentals of password security. Several hacking\n",
    "techniques will be demonstrated throughout the exercises. In particular, we will\n",
    "learn: brute-force attack, rainbow-table attack, and password analysis.\n",
    "We will use a free password dictionary from the given url as our dictionary.\n",
    "https://github.com/danielmiessler/SecLists/blob/master/Passwords/Common-Credentials/10k-most-common.txt\n"
   ]
  },
  {
   "cell_type": "markdown",
   "id": "905ba6d1",
   "metadata": {},
   "source": [
    "## Prerequisite\n",
    "\n",
    "Please prepare a computer with Python installed. Please also install hashlib\n",
    "and bcrypt (e.g pip install hashlib bcrypt).\n",
    "Here is a sample code that might be useful in this activity.\n"
   ]
  },
  {
   "cell_type": "code",
   "execution_count": null,
   "id": "1e93fa60",
   "metadata": {},
   "outputs": [
    {
     "name": "stdout",
     "output_type": "stream",
     "text": [
      "ca8a68498ae67cd14c15f5ebf043633224005759\n",
      "46fa3b56c660faff420190c18c98a56b\n",
      "$2b$12$EMXmE8ujdSSQQydBjtHHXeUqtirj7zQ2UKl/zHfexN01AHZYIRM2q\n"
     ]
    }
   ],
   "source": [
    "import hashlib\n",
    "import bcrypt\n",
    "\n",
    "# SHA1\n",
    "m = hashlib.sha1(b\"Chulalongkorn\").hexdigest()\n",
    "print(m)\n",
    "# MD5\n",
    "m = hashlib.md5(b\"Chulalongkorn\").hexdigest()\n",
    "print(m)\n",
    "# BCRYPT\n",
    "salt = bcrypt.gensalt()\n",
    "m = bcrypt.hashpw(b\"Chulalongkorn\", salt).decode()\n",
    "print(m)"
   ]
  },
  {
   "cell_type": "markdown",
   "id": "b33c7d25",
   "metadata": {},
   "source": [
    "## Exercises\n"
   ]
  },
  {
   "cell_type": "markdown",
   "id": "4107cde5",
   "metadata": {},
   "source": [
    "### Q1.\n",
    "\n",
    "Objective: Understand how attackers use pre-built word lists (dictionaries) to\n",
    "crack hashes of common passwords.\n",
    "Scenario: You have discovered a SHA-1 hash in a compromised system:\n",
    "d54cc1fe76f5186380a0939d2fc1723c44e8a5f7.\n",
    "You suspect the password is a simple, common word, possibly with some\n",
    "character substitutions.\n",
    "Task: Write a Python program that reads a list of words, applies common\n",
    "substitutions, hashes the result, and checks if it matches the target hash.\n",
    "Note that you might want to include substitution in your code (lowercase,\n",
    "uppercase, number for letter [‘o’ => 0 , ‘l’ => 1, ‘i’ => 1]).\n"
   ]
  },
  {
   "cell_type": "code",
   "execution_count": null,
   "id": "9260938f",
   "metadata": {},
   "outputs": [
    {
     "name": "stdout",
     "output_type": "stream",
     "text": [
      "Match found: ThaiLanD\n"
     ]
    }
   ],
   "source": [
    "import hashlib\n",
    "import itertools\n",
    "from pathlib import Path\n",
    "from typing import Dict, Iterator, List, Sequence, Set, Optional\n",
    "\n",
    "\n",
    "TARGET_SHA1: str = \"d54cc1fe76f5186380a0939d2fc1723c44e8a5f7\"\n",
    "WORDLIST_PATH: Path = Path(\"10k-most-common.txt\")\n",
    "MAX_VARIANTS_PER_WORD: int = 250_000  # guard against combinatorial blowups\n",
    "\n",
    "\n",
    "# lowercase/uppercase plus: o->0, l->1, i->1\n",
    "LEET_MAP: Dict[str, Sequence[str]] = {\n",
    "    \"o\": [\"0\"],\n",
    "    \"l\": [\"1\"],\n",
    "    \"i\": [\"1\"],\n",
    "}\n",
    "\n",
    "\n",
    "def sha1_hex(text: str) -> str:\n",
    "    \"\"\"Return the SHA-1 hex digest of the given text (UTF-8).\"\"\"\n",
    "    return hashlib.sha1(text.encode(\"utf-8\")).hexdigest()\n",
    "\n",
    "\n",
    "def per_char_options(ch: str) -> Sequence[str]:\n",
    "    \"\"\"\n",
    "    For a single character, return possible variants:\n",
    "    - lowercase and uppercase\n",
    "    - leet substitutions if defined for the lowercase char\n",
    "    Deduplicated per position to keep the product small.\n",
    "    \"\"\"\n",
    "    base = ch.lower()\n",
    "    opts: Set[str] = {base, base.upper()}\n",
    "    if base in LEET_MAP:\n",
    "        opts.update(LEET_MAP[base])\n",
    "    return list(opts)\n",
    "\n",
    "\n",
    "def generate_variants(\n",
    "    word: str, max_variants: int = MAX_VARIANTS_PER_WORD\n",
    ") -> Iterator[str]:\n",
    "    \"\"\"\n",
    "    Yield mixed case + leetspeak variants for `word`.\n",
    "    Uses a soft guard to avoid exponential blowups on long words.\n",
    "    \"\"\"\n",
    "    choices: List[Sequence[str]] = [per_char_options(c) for c in word]\n",
    "    est: int = 1\n",
    "    for opts in choices:\n",
    "        est *= len(opts)\n",
    "        if est > max_variants:\n",
    "            # Fall back to a small, high-probability set.\n",
    "            yield word\n",
    "            yield word.lower()\n",
    "            yield word.upper()\n",
    "            yield word.capitalize()\n",
    "            return\n",
    "\n",
    "    for combo in itertools.product(*choices):\n",
    "        yield \"\".join(combo)\n",
    "\n",
    "\n",
    "def crack_sha1_from_dictionary(\n",
    "    target_hex: str,\n",
    "    dictionary_path: Path,\n",
    "    *,\n",
    "    max_variants_per_word: int = MAX_VARIANTS_PER_WORD,\n",
    ") -> Optional[str]:\n",
    "    \"\"\"\n",
    "    Attempt to recover the plaintext for `target_hex` using words from `dictionary_path`.\n",
    "    Returns the matching plaintext if found, otherwise None.\n",
    "    \"\"\"\n",
    "    if not dictionary_path.exists():\n",
    "        raise FileNotFoundError(f\"Wordlist not found: {dictionary_path.resolve()}\")\n",
    "\n",
    "    with dictionary_path.open(\"r\", encoding=\"utf-8\", errors=\"ignore\") as f:\n",
    "        for raw in f:\n",
    "            base = raw.strip()\n",
    "            if not base:\n",
    "                continue\n",
    "\n",
    "            # Quick fast-path checks\n",
    "            for quick in (base, base.lower(), base.upper(), base.capitalize()):\n",
    "                if sha1_hex(quick) == target_hex:\n",
    "                    return quick\n",
    "\n",
    "            # Full variant enumeration with leet + case\n",
    "            for candidate in generate_variants(\n",
    "                base, max_variants=max_variants_per_word\n",
    "            ):\n",
    "                if sha1_hex(candidate) == target_hex:\n",
    "                    return candidate\n",
    "    return None\n",
    "\n",
    "\n",
    "match = crack_sha1_from_dictionary(TARGET_SHA1, WORDLIST_PATH)\n",
    "print(f\"Match found: {match}\" if match else \"No match found.\")"
   ]
  },
  {
   "cell_type": "markdown",
   "id": "d9fd094c",
   "metadata": {},
   "source": [
    "Answer: ThaiLanD\n"
   ]
  },
  {
   "cell_type": "markdown",
   "id": "8fa41ab7",
   "metadata": {},
   "source": [
    "### Q2.\n",
    "\n",
    "Objective: To understand why modern password hashing algorithms like\n",
    "bcrypt are more secure than older ones like MD5 and SHA-1.\n",
    "Task: Design and run an experiment to measure how many hashes each\n",
    "algorithm can compute in a fixed amount of time. The code must test atleast\n",
    "MD5 , SHA-1 , and bcrypt .\n",
    "(You may also try additional algorithms like SHA256, SHA512, scrypt,\n",
    "Argon2.)\n",
    "Hint: Use time function in python.\n"
   ]
  },
  {
   "cell_type": "code",
   "execution_count": 5,
   "id": "9cef9903",
   "metadata": {},
   "outputs": [
    {
     "name": "stdout",
     "output_type": "stream",
     "text": [
      "MD5: 2,198,399 hashes/sec\n",
      "SHA-1: 2,472,814 hashes/sec\n",
      "bcrypt (cost=12): 5 hashes/sec\n"
     ]
    }
   ],
   "source": [
    "import time\n",
    "import hashlib\n",
    "\n",
    "# Test message\n",
    "PLAINTEXT = b\"password123\"\n",
    "\n",
    "\n",
    "def benchmark(func, duration=2.0):\n",
    "    \"\"\"Run `func` repeatedly for ~duration seconds. Return iterations/sec.\"\"\"\n",
    "    start = time.perf_counter()\n",
    "    end = start + duration\n",
    "    count = 0\n",
    "    while time.perf_counter() < end:\n",
    "        func()\n",
    "        count += 1\n",
    "    elapsed = time.perf_counter() - start\n",
    "    return count / elapsed\n",
    "\n",
    "\n",
    "# Workers\n",
    "def md5_worker():\n",
    "    hashlib.md5(PLAINTEXT).digest()\n",
    "\n",
    "\n",
    "def sha1_worker():\n",
    "    hashlib.sha1(PLAINTEXT).digest()\n",
    "\n",
    "\n",
    "salt = bcrypt.gensalt(rounds=12)  # cost factor 12\n",
    "\n",
    "\n",
    "def bcrypt_worker():\n",
    "    bcrypt.hashpw(PLAINTEXT, salt)\n",
    "\n",
    "\n",
    "# Run benchmarks\n",
    "results = {\n",
    "    \"MD5\": benchmark(md5_worker),\n",
    "    \"SHA-1\": benchmark(sha1_worker),\n",
    "    \"bcrypt (cost=12)\": benchmark(bcrypt_worker),\n",
    "}\n",
    "\n",
    "for algo, hps in results.items():\n",
    "    print(f\"{algo}: {hps:,.0f} hashes/sec\")\n"
   ]
  },
  {
   "cell_type": "markdown",
   "id": "cb3a6821",
   "metadata": {},
   "source": [
    "### Q3.\n",
    "\n",
    "Objective: To apply the performance measurements to understand the\n",
    "importance of password length and algorithm choice.\n",
    "Task: Based on the measurements from Exercise 2, estimate how long it would\n",
    "take an attacker to brute-force a password of a given length\n",
    "You may assume that the password contains only upper-case, lower-case,\n",
    "numbers and symbols.\n",
    "What does it suggest about the length of a proper password. (ie. Use more\n",
    "than a year to brute force.)\n"
   ]
  },
  {
   "cell_type": "code",
   "execution_count": null,
   "id": "ec27000c",
   "metadata": {},
   "outputs": [
    {
     "name": "stdout",
     "output_type": "stream",
     "text": [
      "\n",
      "=== MD5 (2,198,399 hashes/sec) ===\n",
      "Length  6: 3.63 days\n",
      "Length  7: 341.41 days\n",
      "Length  8: 8.79e+01 years\n",
      "Length  9: 8.26e+03 years\n",
      "Length 10: 7.77e+05 years\n",
      "Length 11: 7.30e+07 years\n",
      "Length 12: 6.86e+09 years\n",
      "\n",
      "=== SHA-1 (2,472,814 hashes/sec) ===\n",
      "Length  6: 3.23 days\n",
      "Length  7: 303.52 days\n",
      "Length  8: 7.82e+01 years\n",
      "Length  9: 7.35e+03 years\n",
      "Length 10: 6.91e+05 years\n",
      "Length 11: 6.49e+07 years\n",
      "Length 12: 6.10e+09 years\n",
      "\n",
      "=== bcrypt(12) (5 hashes/sec) ===\n",
      "Length  6: 4.38e+03 years\n",
      "Length  7: 4.11e+05 years\n",
      "Length  8: 3.87e+07 years\n",
      "Length  9: 3.63e+09 years\n",
      "Length 10: 3.42e+11 years\n",
      "Length 11: 3.21e+13 years\n",
      "Length 12: 3.02e+15 years\n"
     ]
    }
   ],
   "source": [
    "# Hashing speeds from Q2 results\n",
    "hash_rates = {\n",
    "    \"MD5\": 2_198_399,\n",
    "    \"SHA-1\": 2_472_814,\n",
    "    \"bcrypt(12)\": 5,\n",
    "}\n",
    "\n",
    "CHARSET_SIZE = 94  # uppercase (26) + lowercase (26) + digits (10) + symbols (32: !\"#$%&'()*+,-./:;<=>?@[\\]^_`{|}~ )\n",
    "\n",
    "\n",
    "def brute_force_time(length: int, rate: int) -> float:\n",
    "    total = CHARSET_SIZE**length\n",
    "    return total / rate\n",
    "\n",
    "\n",
    "def format_time(seconds: float) -> str:\n",
    "    minute, hour, day, year = 60, 3600, 86400, 31536000\n",
    "    if seconds < minute:\n",
    "        return f\"{seconds:.2f} sec\"\n",
    "    elif seconds < hour:\n",
    "        return f\"{seconds / minute:.2f} min\"\n",
    "    elif seconds < day:\n",
    "        return f\"{seconds / hour:.2f} hrs\"\n",
    "    elif seconds < year:\n",
    "        return f\"{seconds / day:.2f} days\"\n",
    "    else:\n",
    "        return f\"{seconds / year:.2e} years\"\n",
    "\n",
    "\n",
    "# Build result table\n",
    "for algo, rate in hash_rates.items():\n",
    "    print(f\"\\n=== {algo} ({rate:,} hashes/sec) ===\")\n",
    "    for length in range(6, 13):  # lengths 6 to 12\n",
    "        seconds = brute_force_time(length, rate)\n",
    "        print(f\"Length {length:2d}: {format_time(seconds)}\")\n"
   ]
  },
  {
   "cell_type": "markdown",
   "id": "88624714",
   "metadata": {},
   "source": [
    "Answer:\n",
    "\n",
    "To exceed 1 year against your measured rates:\n",
    "\n",
    "- Fast hashes need ≥ 8 characters.\n",
    "- bcrypt(12) already makes even 6 characters take millennia, but still aim for 12–16+ for margin and usability across different threat models.\n"
   ]
  },
  {
   "cell_type": "markdown",
   "id": "02c0c1ed",
   "metadata": {},
   "source": [
    "### Q4.\n",
    "\n",
    "If a given hash value is from a bcrypt algorithm, is it practical to do a\n",
    "brute-force attack?\n"
   ]
  },
  {
   "cell_type": "markdown",
   "id": "7aa7645b",
   "metadata": {},
   "source": [
    "Answer:\n",
    "\n",
    "If a given hash value is produced using the bcrypt algorithm, it is generally not practical to perform a brute-force attack. Unlike older algorithms such as MD5 or SHA-1, which can be computed millions of times per second, bcrypt is intentionally slow and includes a configurable cost factor that makes each hash computation take significantly longer.\n",
    "\n",
    "For example, in our experiment, bcrypt at cost=12 achieved only about 5 hashes per second compared to millions for MD5 and SHA-1.\n",
    "This means that even attempting all 8-character combinations would require millions of years, far beyond practical feasibility.\n",
    "\n",
    "Therefore, when bcrypt is used properly with an adequate cost factor and unique salts, brute-forcing becomes computationally infeasible, shifting the focus of attackers toward weak or common passwords rather than exhaustive keyspace search.\n"
   ]
  },
  {
   "cell_type": "markdown",
   "id": "a692714e",
   "metadata": {},
   "source": [
    "### Q5.\n",
    "\n",
    "If a given hash value is from a bcrypt algorithm, is it practical to perform a\n",
    "rainbow table attack?\n"
   ]
  },
  {
   "cell_type": "markdown",
   "id": "0682d344",
   "metadata": {},
   "source": [
    "Answer:\n",
    "\n",
    "If a given hash value is produced with the **bcrypt** algorithm, it is **not practical** to perform a rainbow table attack.\n",
    "Rainbow tables work by precomputing and storing hashes of many possible passwords so that, when a hash is stolen, an attacker can simply look it up instead of recomputing.\n",
    "This technique is only effective when the hash function is very fast (like MD5 or SHA-1) and deterministic. Bcrypt, however, is both **slow** and **salted by design** - every hash includes a random salt embedded in its string.\n",
    "\n",
    "This means that even if the same password is used by two users, their bcrypt hashes will look different, and precomputed tables become useless because an attacker would need to regenerate a separate table for each unique salt. Combined with bcrypt’s computational cost, building such tables is infeasible in terms of both time and storage.\n",
    "\n",
    "Thus, rainbow table attacks are not practical against bcrypt.\n"
   ]
  },
  {
   "cell_type": "markdown",
   "id": "eab97b22",
   "metadata": {},
   "source": [
    "### Q6.\n",
    "\n",
    "You have to store a password in a database. Please explain your\n",
    "design/strategy for securely storing it.\n",
    "(Hints: Proper hash function, Salting, Cost factor, Database Security)\n"
   ]
  },
  {
   "cell_type": "markdown",
   "id": "0ced27cb",
   "metadata": {},
   "source": [
    "Answer:\n",
    "\n",
    "1. Use strong password hashing algorithms\n",
    "\n",
    "- Argon2id (preferred) or bcrypt; not MD5/SHA-1.\n",
    "\n",
    "2. Add unique salts and tune cost factors\n",
    "\n",
    "- per-user salts plus parameters (e.g., bcrypt cost=12+) adjusted to hardware over time.\n",
    "\n",
    "3. Optionally add a pepper\n",
    "\n",
    "- an app-level secret stored separately from the database for extra protection.\n",
    "\n",
    "4. Secure implementation and database\n",
    "\n",
    "- vetted libraries, TLS in transit, encryption at rest, least-privilege DB roles, monitoring.\n",
    "\n",
    "5. Maintain hygiene and upgrades\n",
    "\n",
    "- strong password policy, MFA, rate limiting, rehash on login when parameters are outdated, and regular audits.\n"
   ]
  }
 ],
 "metadata": {
  "kernelspec": {
   "display_name": "datascience",
   "language": "python",
   "name": "python3"
  },
  "language_info": {
   "codemirror_mode": {
    "name": "ipython",
    "version": 3
   },
   "file_extension": ".py",
   "mimetype": "text/x-python",
   "name": "python",
   "nbconvert_exporter": "python",
   "pygments_lexer": "ipython3",
   "version": "3.11.11"
  }
 },
 "nbformat": 4,
 "nbformat_minor": 5
}
