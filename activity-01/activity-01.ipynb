{
 "cells": [
  {
   "cell_type": "markdown",
   "id": "183aab8a",
   "metadata": {},
   "source": [
    "# Activity I : Hacking Password\n"
   ]
  },
  {
   "cell_type": "markdown",
   "id": "20c04513",
   "metadata": {},
   "source": [
    "Created by : Krerk Piromsopa, Ph.D\n",
    "Objectives\n",
    "To understand the concepts of hashing and salting.\n",
    "Overviews\n",
    "This activity demonstrates the fundamentals of password security. Several hacking\n",
    "techniques will be demonstrated throughout the exercises. In particular, we will\n",
    "learn: brute-force attack, rainbow-table attack, and password analysis.\n",
    "We will use a free password dictionary from the given url as our dictionary.\n",
    "https://github.com/danielmiessler/SecLists/blob/master/Passwords/Common-Credentials/10k-most-common.txt\n"
   ]
  },
  {
   "cell_type": "markdown",
   "id": "905ba6d1",
   "metadata": {},
   "source": [
    "## Prerequisite\n",
    "\n",
    "Please prepare a computer with Python installed. Please also install hashlib\n",
    "and bcrypt (e.g pip install hashlib bcrypt).\n",
    "Here is a sample code that might be useful in this activity.\n"
   ]
  },
  {
   "cell_type": "code",
   "execution_count": 2,
   "id": "1e93fa60",
   "metadata": {},
   "outputs": [
    {
     "name": "stdout",
     "output_type": "stream",
     "text": [
      "ca8a68498ae67cd14c15f5ebf043633224005759\n",
      "46fa3b56c660faff420190c18c98a56b\n",
      "$2b$12$EMXmE8ujdSSQQydBjtHHXeUqtirj7zQ2UKl/zHfexN01AHZYIRM2q\n"
     ]
    }
   ],
   "source": [
    "import hashlib\n",
    "import bcrypt\n",
    "\n",
    "# SHA1\n",
    "m = hashlib.sha1(b\"Chulalongkorn\").hexdigest()\n",
    "print(m)\n",
    "# MD5\n",
    "m = hashlib.md5(b\"Chulalongkorn\").hexdigest()\n",
    "print(m)\n",
    "# BCRYPT\n",
    "salt = bcrypt.gensalt()\n",
    "m = bcrypt.hashpw(b\"Chulalongkorn\", salt).decode()\n",
    "print(m)"
   ]
  },
  {
   "cell_type": "markdown",
   "id": "b33c7d25",
   "metadata": {},
   "source": [
    "## Exercises\n"
   ]
  },
  {
   "cell_type": "markdown",
   "id": "4107cde5",
   "metadata": {},
   "source": [
    "### Q1.\n",
    "\n",
    "Objective: Understand how attackers use pre-built word lists (dictionaries) to\n",
    "crack hashes of common passwords.\n",
    "Scenario: You have discovered a SHA-1 hash in a compromised system:\n",
    "d54cc1fe76f5186380a0939d2fc1723c44e8a5f7.\n",
    "You suspect the password is a simple, common word, possibly with some\n",
    "character substitutions.\n",
    "Task: Write a Python program that reads a list of words, applies common\n",
    "substitutions, hashes the result, and checks if it matches the target hash.\n",
    "Note that you might want to include substitution in your code (lowercase,\n",
    "uppercase, number for letter [‘o’ => 0 , ‘l’ => 1, ‘i’ => 1]).\n"
   ]
  },
  {
   "cell_type": "markdown",
   "id": "8fa41ab7",
   "metadata": {},
   "source": [
    "### Q2.\n",
    "\n",
    "Objective: To understand why modern password hashing algorithms like\n",
    "bcrypt are more secure than older ones like MD5 and SHA-1.\n",
    "Task: Design and run an experiment to measure how many hashes each\n",
    "algorithm can compute in a fixed amount of time. The code must test atleast\n",
    "MD5 , SHA-1 , and bcrypt .\n",
    "(You may also try additional algorithms like SHA256, SHA512, scrypt,\n",
    "Argon2.)\n",
    "Hint: Use time function in python.\n"
   ]
  },
  {
   "cell_type": "markdown",
   "id": "cb3a6821",
   "metadata": {},
   "source": [
    "### Q3.\n",
    "\n",
    "Objective: To apply the performance measurements to understand the\n",
    "importance of password length and algorithm choice.\n",
    "Task: Based on the measurements from Exercise 2, estimate how long it would\n",
    "take an attacker to brute-force a password of a given length\n",
    "You may assume that the password contains only upper-case, lower-case,\n",
    "numbers and symbols.\n",
    "What does it suggest about the length of a proper password. (ie. Use more\n",
    "than a year to brute force.)\n"
   ]
  },
  {
   "cell_type": "markdown",
   "id": "02c0c1ed",
   "metadata": {},
   "source": [
    "### Q4.\n",
    "\n",
    "If a given hash value is from a bcrypt algorithm, is it practical to do a\n",
    "brute-force attack?\n"
   ]
  },
  {
   "cell_type": "markdown",
   "id": "a692714e",
   "metadata": {},
   "source": [
    "### Q5.\n",
    "\n",
    "If a given hash value is from a bcrypt algorithm, is it practical to perform a\n",
    "rainbow table attack?\n"
   ]
  },
  {
   "cell_type": "markdown",
   "id": "eab97b22",
   "metadata": {},
   "source": [
    "### Q6.\n",
    "\n",
    "You have to store a password in a database. Please explain your\n",
    "design/strategy for securely storing it.\n",
    "(Hints: Proper hash function, Salting, Cost factor, Database Security)\n"
   ]
  }
 ],
 "metadata": {
  "kernelspec": {
   "display_name": "datascience",
   "language": "python",
   "name": "python3"
  },
  "language_info": {
   "codemirror_mode": {
    "name": "ipython",
    "version": 3
   },
   "file_extension": ".py",
   "mimetype": "text/x-python",
   "name": "python",
   "nbconvert_exporter": "python",
   "pygments_lexer": "ipython3",
   "version": "3.11.11"
  }
 },
 "nbformat": 4,
 "nbformat_minor": 5
}
